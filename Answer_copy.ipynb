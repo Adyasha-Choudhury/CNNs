{
 "cells": [
  {
   "cell_type": "code",
   "execution_count": 1,
   "id": "508bacac-6905-427b-ad93-eeb8267867ae",
   "metadata": {},
   "outputs": [
    {
     "name": "stderr",
     "output_type": "stream",
     "text": [
      "/opt/anaconda3/envs/example/lib/python3.12/site-packages/easyocr/detection.py:85: FutureWarning: You are using `torch.load` with `weights_only=False` (the current default value), which uses the default pickle module implicitly. It is possible to construct malicious pickle data which will execute arbitrary code during unpickling (See https://github.com/pytorch/pytorch/blob/main/SECURITY.md#untrusted-models for more details). In a future release, the default value for `weights_only` will be flipped to `True`. This limits the functions that could be executed during unpickling. Arbitrary objects will no longer be allowed to be loaded via this mode unless they are explicitly allowlisted by the user via `torch.serialization.add_safe_globals`. We recommend you start setting `weights_only=True` for any use case where you don't have full control of the loaded file. Please open an issue on GitHub for any issues related to this experimental feature.\n",
      "  net.load_state_dict(copyStateDict(torch.load(trained_model, map_location=device)))\n",
      "/opt/anaconda3/envs/example/lib/python3.12/site-packages/easyocr/recognition.py:182: FutureWarning: You are using `torch.load` with `weights_only=False` (the current default value), which uses the default pickle module implicitly. It is possible to construct malicious pickle data which will execute arbitrary code during unpickling (See https://github.com/pytorch/pytorch/blob/main/SECURITY.md#untrusted-models for more details). In a future release, the default value for `weights_only` will be flipped to `True`. This limits the functions that could be executed during unpickling. Arbitrary objects will no longer be allowed to be loaded via this mode unless they are explicitly allowlisted by the user via `torch.serialization.add_safe_globals`. We recommend you start setting `weights_only=True` for any use case where you don't have full control of the loaded file. Please open an issue on GitHub for any issues related to this experimental feature.\n",
      "  model.load_state_dict(torch.load(model_path, map_location=device))\n"
     ]
    }
   ],
   "source": [
    "#this file is to be run once only to create a teacher's copy / answer key\n",
    "import easyocr\n",
    "reader = easyocr.Reader(['en'])  # 'en' is for English\n",
    "result = reader.readtext('Documents/teacher_1.jpeg',detail=1) #answer sheet\n"
   ]
  },
  {
   "cell_type": "code",
   "execution_count": 3,
   "id": "d365b616-e246-4919-b978-705889bc6671",
   "metadata": {},
   "outputs": [
    {
     "name": "stdout",
     "output_type": "stream",
     "text": [
      "1. What is the full form of DSA?\n",
      "DataStructuresAlgorithms\n",
      "2. Which data structure follows LIFO (Last In, First Out)?\n",
      "Stack\n",
      "Which sorting algorithm has the best average time complexity of O(n log n)?\n",
      "Merge Sort\n",
      "What is the worst-case time complexity of linear search?\n",
      "O(n)\n",
      "5\n",
      "Which data structure is used in a queue?\n",
      "FIFO\n",
      "What is the\n",
      "height of a binary tree with one node?\n",
      "Zero\n",
      "What data structure is typically used for Depth-First Search (DFS)?\n",
      "Stack\n",
      "Which data structure is typically used for Breadth-First Search (BFS)?\n",
      "Queue\n",
      "9\n",
      "What is the best-case time complexity of bubble sort?\n",
      "O(n)\n",
      "10_\n",
      "What is the maximum number of children a binary tree node can have?\n",
      "Two\n"
     ]
    }
   ],
   "source": [
    "for i in result:\n",
    "    print(i[1])\n",
    "#this step is not required, doing it for ur understanding only"
   ]
  },
  {
   "cell_type": "code",
   "execution_count": 4,
   "id": "33e551ae-33ce-4fc2-ad3d-5c43723a2c80",
   "metadata": {},
   "outputs": [],
   "source": [
    "#when u print \"result\" from the above box, u get a nested list\n",
    "#each element of this list is a tuple. this has the box coordinates in 0th index,the text in 1st index, and in last index some value.\n",
    "#ask chatgpt what are box coordinates for more details.\n",
    "# now, there's a problem with this ocr, although all the words are in the same line, due to an error of 3-4 units in the box coordinates, \n",
    "# they are treated as different lines. This function firstly removes that error. You can find this error in the above output, for the 9th \n",
    "#output where only \"5\" is there.\n",
    "def create_lines(result):\n",
    "     lines=[]\n",
    "     top_y=result[0][0][0][1]\n",
    "     for i in range(0, len(result)):\n",
    "         cur_y=result[i][0][0][1]\n",
    "         if len(lines)==0:\n",
    "             lines.append(result[i][1])\n",
    "         elif abs(top_y-cur_y) <=10:\n",
    "             lines[-1]=lines[-1]+\" \"+result[i][1]\n",
    "         elif abs(top_y-cur_y) >10:\n",
    "             lines.append(result[i][1])\n",
    "             top_y=cur_y\n",
    "         \n",
    "     return lines        "
   ]
  },
  {
   "cell_type": "code",
   "execution_count": 5,
   "id": "b228f19b-1b8a-4cab-8265-f5ff62315694",
   "metadata": {},
   "outputs": [
    {
     "name": "stdout",
     "output_type": "stream",
     "text": [
      "1. What is the full form of DSA?\n",
      "DataStructuresAlgorithms\n",
      "2. Which data structure follows LIFO (Last In, First Out)?\n",
      "Stack\n",
      "Which sorting algorithm has the best average time complexity of O(n log n)?\n",
      "Merge Sort\n",
      "What is the worst-case time complexity of linear search?\n",
      "O(n)\n",
      "5 Which data structure is used in a queue?\n",
      "FIFO\n",
      "What is the height of a binary tree with one node?\n",
      "Zero\n",
      "What data structure is typically used for Depth-First Search (DFS)?\n",
      "Stack\n",
      "Which data structure is typically used for Breadth-First Search (BFS)?\n",
      "Queue\n",
      "9 What is the best-case time complexity of bubble sort?\n",
      "O(n)\n",
      "10_ What is the maximum number of children a binary tree node can have?\n",
      "Two\n"
     ]
    }
   ],
   "source": [
    "lines=create_lines(result)\n",
    "for i in lines:\n",
    "    print(i)  #now you'll see all the same line elements are in the index. \"lines\" is a list with each line as one element"
   ]
  },
  {
   "cell_type": "code",
   "execution_count": 6,
   "id": "b495277a-a2e1-4872-b1b3-4758f5b1ecc2",
   "metadata": {},
   "outputs": [
    {
     "name": "stdout",
     "output_type": "stream",
     "text": [
      "['1. What is the full form of DSA?', 'DataStructuresAlgorithms', '2. Which data structure follows LIFO (Last In, First Out)?', 'Stack', 'Which sorting algorithm has the best average time complexity of O(n log n)?', 'Merge Sort', 'What is the worst-case time complexity of linear search?', 'O(n)', '5 Which data structure is used in a queue?', 'FIFO', 'What is the height of a binary tree with one node?', 'Zero', 'What data structure is typically used for Depth-First Search (DFS)?', 'Stack', 'Which data structure is typically used for Breadth-First Search (BFS)?', 'Queue', '9 What is the best-case time complexity of bubble sort?', 'O(n)', '10_ What is the maximum number of children a binary tree node can have?', 'Two']\n"
     ]
    }
   ],
   "source": [
    "#this function takes into consideration a case, where the question can be very long and span over 2, 3 or 4 lines n so on...\n",
    "#so we combine those lines into one element, coz it's one question. Here answers are one word, so no worries\n",
    "#so AFTER using this function, we have elements which are solely answers, or solely questions, not just random phrases\n",
    "def multi_line_qs(lines):\n",
    "    for i in range(0, len(lines)):\n",
    "        if \"?\" not in lines[i] and \"ans\" not in lines[i].strip()[:3].lower(): #strip is to remove extra spaces on the start and end\n",
    "            if \"ans\" not in lines[i-1].lower():\n",
    "                lines[i-1]=lines[i-1]+\" \"+lines[i]\n",
    "                lines[i]=\" \"\n",
    "\n",
    "print(lines)"
   ]
  },
  {
   "cell_type": "code",
   "execution_count": 7,
   "id": "b0fc889c-7ee7-4f19-b6f7-84533697b090",
   "metadata": {},
   "outputs": [],
   "source": [
    "#this function creates a list just for answers\n",
    "\n",
    "def student_one_word_ans(lines):\n",
    "    ans=[]\n",
    "    for i in lines:\n",
    "        if '?' not in i:\n",
    "            ans.append(i)\n",
    "    return ans"
   ]
  },
  {
   "cell_type": "code",
   "execution_count": 11,
   "id": "300d0823-8bab-49cc-a267-3f76c625610b",
   "metadata": {},
   "outputs": [
    {
     "name": "stdout",
     "output_type": "stream",
     "text": [
      "['DataStructuresAlgorithms', 'Stack', 'Merge Sort', 'O(n)', 'FIFO', 'Zero', 'Stack', 'Queue', 'O(n)', 'Two']\n",
      "DataStructuresAlgorithms\n",
      "Stack\n",
      "Merge Sort\n",
      "O(n)\n",
      "FIFO\n",
      "Zero\n",
      "Stack\n",
      "Queue\n",
      "O(n)\n",
      "Two\n"
     ]
    }
   ],
   "source": [
    "ans=student_one_word_ans(lines)\n",
    "print(ans)\n",
    "for i in ans:\n",
    "    print(i)"
   ]
  },
  {
   "cell_type": "code",
   "execution_count": 12,
   "id": "a073b705-365a-4f8f-b85c-c5ac3502aacc",
   "metadata": {},
   "outputs": [],
   "source": [
    "#whatever is not in the answer list, is a question\n",
    "\n",
    "def questions(lines,ans):\n",
    "    q=[]\n",
    "    for i in lines:\n",
    "        if i not in ans:\n",
    "            q.append(i)\n",
    "    return q"
   ]
  },
  {
   "cell_type": "code",
   "execution_count": 13,
   "id": "61cc7236-6a9f-472a-8981-403773150157",
   "metadata": {},
   "outputs": [
    {
     "name": "stdout",
     "output_type": "stream",
     "text": [
      "['1. What is the full form of DSA?', '2. Which data structure follows LIFO (Last In, First Out)?', 'Which sorting algorithm has the best average time complexity of O(n log n)?', 'What is the worst-case time complexity of linear search?', '5 Which data structure is used in a queue?', 'What is the height of a binary tree with one node?', 'What data structure is typically used for Depth-First Search (DFS)?', 'Which data structure is typically used for Breadth-First Search (BFS)?', '9 What is the best-case time complexity of bubble sort?', '10_ What is the maximum number of children a binary tree node can have?']\n"
     ]
    }
   ],
   "source": [
    "q=questions(lines,ans)\n",
    "print(q)"
   ]
  },
  {
   "cell_type": "code",
   "execution_count": 14,
   "id": "1f6b8880-3b9d-4356-92b9-2c636cf21723",
   "metadata": {},
   "outputs": [],
   "source": [
    "#this is a step done in most ocr based projects. python is case sensitive, so we need to make all the words to lower case\n",
    "# and in case there are extra spaces, like \"  hello\" , whereas the word is \"hello\" and the student gave \"Hello\" as the answer, he should get\n",
    "#marks. But \"  hello\" is not equal to \"Hello\". so normalisation is important\n",
    "def normalize(ans,q):\n",
    "    for i in range(0,len(ans)):\n",
    "        ans[i]=ans[i].strip()\n",
    "        ans[i]= ans[i].lower()\n",
    "    for i in range(0,len(q)):\n",
    "        q[i]=q[i].strip()\n",
    "        q[i]= q[i].lower()"
   ]
  },
  {
   "cell_type": "code",
   "execution_count": 15,
   "id": "68cb451b-a76d-41bd-97c2-d61f75d13e38",
   "metadata": {},
   "outputs": [
    {
     "name": "stdout",
     "output_type": "stream",
     "text": [
      "['1. what is the full form of dsa?', '2. which data structure follows lifo (last in, first out)?', 'which sorting algorithm has the best average time complexity of o(n log n)?', 'what is the worst-case time complexity of linear search?', '5 which data structure is used in a queue?', 'what is the height of a binary tree with one node?', 'what data structure is typically used for depth-first search (dfs)?', 'which data structure is typically used for breadth-first search (bfs)?', '9 what is the best-case time complexity of bubble sort?', '10_ what is the maximum number of children a binary tree node can have?']\n"
     ]
    }
   ],
   "source": [
    "normalize(ans,q)\n",
    "print(q)"
   ]
  },
  {
   "cell_type": "code",
   "execution_count": 16,
   "id": "97c58769-a5aa-4369-86f8-f074b3d3b195",
   "metadata": {},
   "outputs": [
    {
     "name": "stdout",
     "output_type": "stream",
     "text": [
      "['datastructuresalgorithms', 'stack', 'merge sort', 'o(n)', 'fifo', 'zero', 'stack', 'queue', 'o(n)', 'two']\n"
     ]
    }
   ],
   "source": [
    "\n",
    "print(ans)"
   ]
  },
  {
   "cell_type": "code",
   "execution_count": 17,
   "id": "4b7917cd-37bb-4495-95e6-2525da9e44b5",
   "metadata": {},
   "outputs": [],
   "source": [
    "#just removing question numbers\n",
    "def remove_qno(q):\n",
    "    for i in range(0,len(q)):\n",
    "        for j in range(0, len(q[i])):\n",
    "            if q[i][j].isalpha():\n",
    "                break\n",
    "            elif q[i][j].isdigit():\n",
    "                q[i]=q[i][1:]\n",
    "            elif q[i][j]=='.' or q[i][j].isspace() or q[i][j]==\"_\":\n",
    "                 q[i]=q[i][1:]"
   ]
  },
  {
   "cell_type": "code",
   "execution_count": 18,
   "id": "aaad7507-1e16-4636-af0d-8207a2ddd80e",
   "metadata": {},
   "outputs": [
    {
     "name": "stdout",
     "output_type": "stream",
     "text": [
      "['what is the full form of dsa?', 'which data structure follows lifo (last in, first out)?', 'which sorting algorithm has the best average time complexity of o(n log n)?', 'what is the worst-case time complexity of linear search?', 'which data structure is used in a queue?', 'what is the height of a binary tree with one node?', 'what data structure is typically used for depth-first search (dfs)?', 'which data structure is typically used for breadth-first search (bfs)?', 'what is the best-case time complexity of bubble sort?', ' what is the maximum number of children a binary tree node can have?']\n",
      "['datastructuresalgorithms', 'stack', 'merge sort', 'o(n)', '234', 'zero', 'stack', 'queue', 'o(n)', 'two']\n"
     ]
    }
   ],
   "source": [
    "#I've written it twice coz, sometimes it doesn't remove in one go idk why...so just run it twice to be sure\n",
    "remove_qno(q)\n",
    "remove_qno(q)\n",
    "print(q)\n",
    "ans[4]=\"234\"\n",
    "print(ans)\n"
   ]
  },
  {
   "cell_type": "code",
   "execution_count": 19,
   "id": "5a6bbf59-644e-4446-b417-3272922c0c04",
   "metadata": {},
   "outputs": [
    {
     "name": "stdout",
     "output_type": "stream",
     "text": [
      "CSV file Student_copy_1.csv is created successfully!\n"
     ]
    }
   ],
   "source": [
    "import pandas as pd\n",
    "#here comes the part where we write it into a csv file\n",
    "# Data to write into CSV\n",
    "data = {\n",
    "    'Questions': q,\n",
    "    'Answers': ans,\n",
    "}                     # \"data\" is a dictionary. the keys 'Questions' and 'Answers' will be the headings in the file\n",
    "dfans = pd.DataFrame(data)  #A DataFrame is an object in python, given by pandas. \"dfans\" stands for \"dataframe answers\" I just made it up\n",
    "dfans.index = range(1, len(dfans) + 1)  #start indexing from 1 in the csv file\n",
    "dfans.to_csv('Student_copy_1.csv', index=True)\n",
    "print(\"CSV file Student_copy_1.csv is created successfully!\")\n"
   ]
  },
  {
   "cell_type": "code",
   "execution_count": 20,
   "id": "64448cda-5b1b-4336-8605-88174603b443",
   "metadata": {},
   "outputs": [
    {
     "name": "stdout",
     "output_type": "stream",
     "text": [
      "                                                                      ,Questions,Answers\n",
      "                                1,what is the full form of dsa?,datastructuresalgorithms\n",
      "                       2,\"which data structure follows lifo (last in, first out)?\",stack\n",
      "3,which sorting algorithm has the best average time complexity of o(n log n)?,merge sort\n",
      "                         4,what is the worst-case time complexity of linear search?,o(n)\n",
      "                                          5,which data structure is used in a queue?,234\n",
      "                               6,what is the height of a binary tree with one node?,zero\n",
      "             7,what data structure is typically used for depth-first search (dfs)?,stack\n",
      "          8,which data structure is typically used for breadth-first search (bfs)?,queue\n",
      "                            9,what is the best-case time complexity of bubble sort?,o(n)\n",
      "             10, what is the maximum number of children a binary tree node can have?,two\n"
     ]
    }
   ],
   "source": [
    "dfans = pd.read_csv('Student_copy_1.csv', sep=';')  #reading the file\n",
    "print(dfans.to_string(index=False))"
   ]
  },
  {
   "cell_type": "code",
   "execution_count": 21,
   "id": "293f5815-a25f-4cf0-a7a0-08cd071834f4",
   "metadata": {},
   "outputs": [
    {
     "name": "stdout",
     "output_type": "stream",
     "text": [
      "                                                                      ,Questions,Answers\n",
      "                                1,what is the full form of dsa?,datastructuresalgorithms\n",
      "                       2,\"which data structure follows lifo (last in, first out)?\",stack\n",
      "3,which sorting algorithm has the best average time complexity of o(n log n)?,merge sort\n",
      "                         4,what is the worst-case time complexity of linear search?,o(n)\n",
      "                                         5,which data structure is used in a queue?,fifo\n",
      "                               6,what is the height of a binary tree with one node?,zero\n",
      "             7,what data structure is typically used for depth-first search (dfs)?,stack\n",
      "          8,which data structure is typically used for breadth-first search (bfs)?,queue\n",
      "                            9,what is the best-case time complexity of bubble sort?,o(n)\n",
      "             10, what is the maximum number of children a binary tree node can have?,two\n"
     ]
    }
   ],
   "source": [
    "dfques = pd.read_csv('Teacher_copy_1.csv', sep=';')\n",
    "print(dfques.to_string(index=False))   "
   ]
  },
  {
   "cell_type": "code",
   "execution_count": 22,
   "id": "85e86e22-540d-408c-ae42-fafd7544868e",
   "metadata": {},
   "outputs": [
    {
     "name": "stdout",
     "output_type": "stream",
     "text": [
      "datastructuresalgorithms datastructuresalgorithms\n",
      " first out)?\"  first out)?\"\n",
      "merge sort merge sort\n",
      "o(n) o(n)\n",
      "fifo 234\n",
      "zero zero\n",
      "stack stack\n",
      "queue queue\n",
      "o(n) o(n)\n",
      "two two\n",
      "['1', '1', '1', '1', '0', '1', '1', '1', '1', '1']\n",
      "(9, ['1', '1', '1', '1', '0', '1', '1', '1', '1', '1'])\n"
     ]
    }
   ],
   "source": [
    "#using fuzzy logic to compare answers coz they're one-word only.\n",
    "from fuzzywuzzy import fuzz\n",
    "def evaluate(dfques,dfans,q):\n",
    "    total_marks=0\n",
    "    marks=[]\n",
    "    for i in range(len(q)):\n",
    "        keystr=dfques.iloc[i,0]\n",
    "        ansstr=dfans.iloc[i,0]\n",
    "        print(keystr.split(',')[2],ansstr.split(',')[2])\n",
    "        score = fuzz.ratio(keystr.split(',')[2],ansstr.split(',')[2])\n",
    "        if score>=80:\n",
    "            total_marks+=1\n",
    "            marks.append('1')\n",
    "        else:\n",
    "            marks.append('0')\n",
    "    print(marks)\n",
    "    return total_marks,marks\n",
    "\n",
    "print(evaluate(dfques,dfans,q))  #returns a tuple. 0th element gives marks, 1st element gives a list of - \n",
    "                                 #for which question how many marks were givem\n",
    "    "
   ]
  },
  {
   "cell_type": "code",
   "execution_count": 28,
   "id": "8a56eb73-b68e-4f19-b924-e0c9da2c35e3",
   "metadata": {},
   "outputs": [
    {
     "name": "stdout",
     "output_type": "stream",
     "text": [
      "datastructuresalgorithms datastructuresalgorithms\n",
      " first out)?\"  first out)?\"\n",
      "merge sort merge sort\n",
      "o(n) o(n)\n",
      "fifo 234\n",
      "zero zero\n",
      "stack stack\n",
      "queue queue\n",
      "o(n) o(n)\n",
      "two two\n",
      "['1', '1', '1', '1', '0', '1', '1', '1', '1', '1']\n",
      "datastructuresalgorithms datastructuresalgorithms\n",
      " first out)?\"  first out)?\"\n",
      "merge sort merge sort\n",
      "o(n) o(n)\n",
      "fifo 234\n",
      "zero zero\n",
      "stack stack\n",
      "queue queue\n",
      "o(n) o(n)\n",
      "two two\n",
      "['1', '1', '1', '1', '0', '1', '1', '1', '1', '1']\n"
     ]
    }
   ],
   "source": [
    "if 'Marks' not in dfans.columns:  #dfans is a dataframe (object), so look, it has an attribute (variable) called columns!!!\n",
    "    dfans['Marks']=evaluate(dfques,dfans,q)[1] #adding a marks column\n",
    "else:\n",
    "    dfans = dfans.drop('Marks', axis=1)  # 'Column_Name' is the column you want to delete\n",
    "    # Step 3: Save the updated DataFrame back to the same CSV (or a new one)\n",
    "    dfans.to_csv('Student_copy_1.csv', index=True)\n",
    "    dfans['Marks']=evaluate(dfques,dfans,q)[1]\n",
    "total_marks=evaluate(dfques,dfans,q)[0]"
   ]
  },
  {
   "cell_type": "code",
   "execution_count": 24,
   "id": "15e77691-d8fe-4508-9cb8-55e5d32457d4",
   "metadata": {},
   "outputs": [
    {
     "name": "stdout",
     "output_type": "stream",
     "text": [
      "                                  ,Questions,Answers Marks\n",
      "0  1,what is the full form of dsa?,datastructures...     1\n",
      "1  2,\"which data structure follows lifo (last in,...     1\n",
      "2  3,which sorting algorithm has the best average...     1\n",
      "3  4,what is the worst-case time complexity of li...     1\n",
      "4     5,which data structure is used in a queue?,234     0\n",
      "5  6,what is the height of a binary tree with one...     1\n",
      "6  7,what data structure is typically used for de...     1\n",
      "7  8,which data structure is typically used for b...     1\n",
      "8  9,what is the best-case time complexity of bub...     1\n",
      "9  10, what is the maximum number of children a b...     1\n",
      "total marks are:  9\n"
     ]
    }
   ],
   "source": [
    "print(dfans)\n",
    "print(\"total marks are: \",total_marks)"
   ]
  },
  {
   "cell_type": "code",
   "execution_count": 29,
   "id": "be354375-0786-40da-812c-c92151a7a7a8",
   "metadata": {},
   "outputs": [
    {
     "name": "stdout",
     "output_type": "stream",
     "text": [
      "['datastructuresalgorithms', 'stack', 'merge sort', 'o(n)', '234', 'zero', 'stack', 'queue', 'o(n)', 'two']\n",
      "datastructuresalgorithms\n",
      "stack\n",
      "merge sort\n",
      "o(n)\n",
      "234\n",
      "zero\n",
      "stack\n",
      "queue\n",
      "o(n)\n",
      "two\n"
     ]
    }
   ],
   "source": [
    "ans[4]= \"234\"\n",
    "print(ans)\n",
    "for i in ans:\n",
    "    print(i)"
   ]
  },
  {
   "cell_type": "code",
   "execution_count": null,
   "id": "5cdd7098-3c49-452a-bcb9-009fe8fbf1e9",
   "metadata": {},
   "outputs": [],
   "source": []
  }
 ],
 "metadata": {
  "kernelspec": {
   "display_name": "Python 3 (ipykernel)",
   "language": "python",
   "name": "python3"
  },
  "language_info": {
   "codemirror_mode": {
    "name": "ipython",
    "version": 3
   },
   "file_extension": ".py",
   "mimetype": "text/x-python",
   "name": "python",
   "nbconvert_exporter": "python",
   "pygments_lexer": "ipython3",
   "version": "3.12.4"
  }
 },
 "nbformat": 4,
 "nbformat_minor": 5
}
